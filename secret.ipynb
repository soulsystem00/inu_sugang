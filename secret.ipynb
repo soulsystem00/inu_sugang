{
 "metadata": {
  "language_info": {
   "codemirror_mode": {
    "name": "ipython",
    "version": 3
   },
   "file_extension": ".py",
   "mimetype": "text/x-python",
   "name": "python",
   "nbconvert_exporter": "python",
   "pygments_lexer": "ipython3",
   "version": "3.8.3-final"
  },
  "orig_nbformat": 2,
  "kernelspec": {
   "name": "python3",
   "display_name": "Python 3"
  }
 },
 "nbformat": 4,
 "nbformat_minor": 2,
 "cells": [
  {
   "cell_type": "code",
   "execution_count": 3,
   "metadata": {},
   "outputs": [],
   "source": [
    "from selenium import webdriver\n",
    "import time\n",
    "id_ = input('아이디를 입력하세요')\n",
    "pw_ = input('비밀번호를 입력하세요')\n",
    "lecture_ = input('과목명을 입력하세요')\n",
    "refresh = int(input('입력시간을 입력하세요(초)'))\n",
    "driver = webdriver.Chrome(r\"path\") # input your chorme weddriver path\n",
    "driver.get(\"http://sugang.inu.ac.kr:8885/\")\n",
    "time.sleep(2)\n",
    "driver.switch_to_frame(driver.find_element_by_xpath('//iframe[@id=\"sukang\"]'))\n"
   ]
  },
  {
   "cell_type": "code",
   "execution_count": 4,
   "metadata": {},
   "outputs": [],
   "source": [
    "login_id = driver.find_element_by_xpath('//*[@id=\"stuno\"]')\n",
    "login_id.send_keys(id_)\n",
    "login_pw = driver.find_element_by_xpath('//*[@id=\"pwd\"]')\n",
    "login_pw.send_keys(pw_)\n",
    "driver.find_element_by_xpath('//*[@id=\"login\"]/div[2]/form/div/div[1]/a').click()"
   ]
  },
  {
   "cell_type": "code",
   "execution_count": 5,
   "metadata": {},
   "outputs": [],
   "source": [
    "search_btn = driver.find_element_by_xpath('//*[@id=\"menu\"]/div/p/a[6]')\n",
    "search_btn.click()"
   ]
  },
  {
   "cell_type": "code",
   "execution_count": 6,
   "metadata": {},
   "outputs": [],
   "source": [
    "search_box = driver.find_element_by_xpath('//*[@id=\"custom\"]')\n",
    "search_box.send_keys(lecture_)"
   ]
  },
  {
   "cell_type": "code",
   "execution_count": 7,
   "metadata": {},
   "outputs": [
    {
     "output_type": "error",
     "ename": "KeyboardInterrupt",
     "evalue": "",
     "traceback": [
      "\u001b[1;31m---------------------------------------------------------------------------\u001b[0m",
      "\u001b[1;31mKeyboardInterrupt\u001b[0m                         Traceback (most recent call last)",
      "\u001b[1;32m<ipython-input-7-cbd3f8d7b43d>\u001b[0m in \u001b[0;36m<module>\u001b[1;34m\u001b[0m\n\u001b[0;32m      2\u001b[0m     \u001b[0msearch_btn\u001b[0m \u001b[1;33m=\u001b[0m \u001b[0mdriver\u001b[0m\u001b[1;33m.\u001b[0m\u001b[0mfind_element_by_xpath\u001b[0m\u001b[1;33m(\u001b[0m\u001b[1;34m'//*[@id=\"sinSukang_custom_top\"]/form/table/tbody/tr/td[4]/table/tbody/tr/td[8]/table/tbody/tr/td'\u001b[0m\u001b[1;33m)\u001b[0m\u001b[1;33m\u001b[0m\u001b[1;33m\u001b[0m\u001b[0m\n\u001b[0;32m      3\u001b[0m     \u001b[0msearch_btn\u001b[0m\u001b[1;33m.\u001b[0m\u001b[0mclick\u001b[0m\u001b[1;33m(\u001b[0m\u001b[1;33m)\u001b[0m\u001b[1;33m\u001b[0m\u001b[1;33m\u001b[0m\u001b[0m\n\u001b[1;32m----> 4\u001b[1;33m     \u001b[0mtime\u001b[0m\u001b[1;33m.\u001b[0m\u001b[0msleep\u001b[0m\u001b[1;33m(\u001b[0m\u001b[0mrefresh\u001b[0m\u001b[1;33m)\u001b[0m\u001b[1;33m\u001b[0m\u001b[1;33m\u001b[0m\u001b[0m\n\u001b[0m\u001b[0;32m      5\u001b[0m     \u001b[1;31m# //*[@id=\"sinSukang_gyoyang_bottom\"]/div/div/table/tbody/tr[3]/td[9]/a\u001b[0m\u001b[1;33m\u001b[0m\u001b[1;33m\u001b[0m\u001b[1;33m\u001b[0m\u001b[0m\n\u001b[0;32m      6\u001b[0m     \u001b[1;31m# //*[@id=\"sinSukang_gyoyang_bottom\"]/div/div/table/tbody/tr[1]/td[9]/a\u001b[0m\u001b[1;33m\u001b[0m\u001b[1;33m\u001b[0m\u001b[1;33m\u001b[0m\u001b[0m\n",
      "\u001b[1;31mKeyboardInterrupt\u001b[0m: "
     ]
    }
   ],
   "source": [
    "while(True):\n",
    "    search_btn = driver.find_element_by_xpath('//*[@id=\"sinSukang_custom_top\"]/form/table/tbody/tr/td[4]/table/tbody/tr/td[8]/table/tbody/tr/td')\n",
    "    search_btn.click()\n",
    "    time.sleep(refresh)\n",
    "    subscribe_btn = driver.find_element_by_xpath('//*[@id=\"register\"]/div/table/tbody/tr/td[9]/a')\n",
    "    subscribe_btn.click()\n"
   ]
  }
 ]
}